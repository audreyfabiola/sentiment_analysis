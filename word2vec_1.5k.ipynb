{
 "cells": [
  {
   "cell_type": "code",
   "execution_count": 63,
   "metadata": {},
   "outputs": [],
   "source": [
    "import numpy as np\n",
    "import pandas as pd\n",
    "import re\n",
    "import psutil\n",
    "import time\n",
    "from datetime import datetime\n",
    "from memory_profiler import profile\n",
    "import matplotlib.pyplot as plt\n",
    "\n",
    "from nltk.corpus import stopwords\n",
    "from vaderSentiment import SentimentIntensityAnalyzer\n",
    "\n",
    "from sklearn.naive_bayes import GaussianNB\n",
    "from sklearn.svm import LinearSVC\n",
    "from sklearn.model_selection import train_test_split\n",
    "from sklearn.metrics import accuracy_score, precision_score, recall_score, f1_score, classification_report"
   ]
  },
  {
   "cell_type": "markdown",
   "metadata": {},
   "source": [
    "## Data Prep"
   ]
  },
  {
   "cell_type": "code",
   "execution_count": 11,
   "metadata": {},
   "outputs": [
    {
     "data": {
      "text/html": [
       "<div>\n",
       "<style scoped>\n",
       "    .dataframe tbody tr th:only-of-type {\n",
       "        vertical-align: middle;\n",
       "    }\n",
       "\n",
       "    .dataframe tbody tr th {\n",
       "        vertical-align: top;\n",
       "    }\n",
       "\n",
       "    .dataframe thead th {\n",
       "        text-align: right;\n",
       "    }\n",
       "</style>\n",
       "<table border=\"1\" class=\"dataframe\">\n",
       "  <thead>\n",
       "    <tr style=\"text-align: right;\">\n",
       "      <th></th>\n",
       "      <th>asin</th>\n",
       "      <th>name</th>\n",
       "      <th>date</th>\n",
       "      <th>rating</th>\n",
       "      <th>review</th>\n",
       "    </tr>\n",
       "  </thead>\n",
       "  <tbody>\n",
       "    <tr>\n",
       "      <th>0</th>\n",
       "      <td>B07W7CTLD1</td>\n",
       "      <td>Mamaearth-Onion-Growth-Control-Redensyl</td>\n",
       "      <td>2019-09-06</td>\n",
       "      <td>1</td>\n",
       "      <td>I bought this hair oil after viewing so many g...</td>\n",
       "    </tr>\n",
       "    <tr>\n",
       "      <th>1</th>\n",
       "      <td>B07W7CTLD1</td>\n",
       "      <td>Mamaearth-Onion-Growth-Control-Redensyl</td>\n",
       "      <td>2019-08-14</td>\n",
       "      <td>5</td>\n",
       "      <td>Used This Mama Earth Newly Launched Onion Oil ...</td>\n",
       "    </tr>\n",
       "    <tr>\n",
       "      <th>2</th>\n",
       "      <td>B07W7CTLD1</td>\n",
       "      <td>Mamaearth-Onion-Growth-Control-Redensyl</td>\n",
       "      <td>2019-10-19</td>\n",
       "      <td>1</td>\n",
       "      <td>So bad product...My hair falling increase too ...</td>\n",
       "    </tr>\n",
       "    <tr>\n",
       "      <th>3</th>\n",
       "      <td>B07W7CTLD1</td>\n",
       "      <td>Mamaearth-Onion-Growth-Control-Redensyl</td>\n",
       "      <td>2019-09-16</td>\n",
       "      <td>1</td>\n",
       "      <td>Product just smells similar to navarathna hair...</td>\n",
       "    </tr>\n",
       "    <tr>\n",
       "      <th>4</th>\n",
       "      <td>B07W7CTLD1</td>\n",
       "      <td>Mamaearth-Onion-Growth-Control-Redensyl</td>\n",
       "      <td>2019-08-18</td>\n",
       "      <td>5</td>\n",
       "      <td>I have been trying different onion oil for my ...</td>\n",
       "    </tr>\n",
       "    <tr>\n",
       "      <th>...</th>\n",
       "      <td>...</td>\n",
       "      <td>...</td>\n",
       "      <td>...</td>\n",
       "      <td>...</td>\n",
       "      <td>...</td>\n",
       "    </tr>\n",
       "    <tr>\n",
       "      <th>1495</th>\n",
       "      <td>B01MQNBOLA</td>\n",
       "      <td>Cinthol-Cool-Soap-100g-Free</td>\n",
       "      <td>2020-06-18</td>\n",
       "      <td>1</td>\n",
       "      <td>In television advertisement, the color of the ...</td>\n",
       "    </tr>\n",
       "    <tr>\n",
       "      <th>1496</th>\n",
       "      <td>B01MQNBOLA</td>\n",
       "      <td>Cinthol-Cool-Soap-100g-Free</td>\n",
       "      <td>2020-09-04</td>\n",
       "      <td>4</td>\n",
       "      <td>Decent Soap. Very fresh and nice. Gives good a...</td>\n",
       "    </tr>\n",
       "    <tr>\n",
       "      <th>1497</th>\n",
       "      <td>B01MQNBOLA</td>\n",
       "      <td>Cinthol-Cool-Soap-100g-Free</td>\n",
       "      <td>2020-08-12</td>\n",
       "      <td>1</td>\n",
       "      <td>Has absolutely no perfume at all... and it is ...</td>\n",
       "    </tr>\n",
       "    <tr>\n",
       "      <th>1498</th>\n",
       "      <td>B01MQNBOLA</td>\n",
       "      <td>Cinthol-Cool-Soap-100g-Free</td>\n",
       "      <td>2020-08-02</td>\n",
       "      <td>1</td>\n",
       "      <td>This soap fluxes so fast even when you put it ...</td>\n",
       "    </tr>\n",
       "    <tr>\n",
       "      <th>1499</th>\n",
       "      <td>B01MQNBOLA</td>\n",
       "      <td>Cinthol-Cool-Soap-100g-Free</td>\n",
       "      <td>2020-08-12</td>\n",
       "      <td>1</td>\n",
       "      <td>I have ordered 4+1=5 pcs cinthol soapBut I hav...</td>\n",
       "    </tr>\n",
       "  </tbody>\n",
       "</table>\n",
       "<p>1500 rows × 5 columns</p>\n",
       "</div>"
      ],
      "text/plain": [
       "            asin                                     name        date  rating  \\\n",
       "0     B07W7CTLD1  Mamaearth-Onion-Growth-Control-Redensyl  2019-09-06       1   \n",
       "1     B07W7CTLD1  Mamaearth-Onion-Growth-Control-Redensyl  2019-08-14       5   \n",
       "2     B07W7CTLD1  Mamaearth-Onion-Growth-Control-Redensyl  2019-10-19       1   \n",
       "3     B07W7CTLD1  Mamaearth-Onion-Growth-Control-Redensyl  2019-09-16       1   \n",
       "4     B07W7CTLD1  Mamaearth-Onion-Growth-Control-Redensyl  2019-08-18       5   \n",
       "...          ...                                      ...         ...     ...   \n",
       "1495  B01MQNBOLA              Cinthol-Cool-Soap-100g-Free  2020-06-18       1   \n",
       "1496  B01MQNBOLA              Cinthol-Cool-Soap-100g-Free  2020-09-04       4   \n",
       "1497  B01MQNBOLA              Cinthol-Cool-Soap-100g-Free  2020-08-12       1   \n",
       "1498  B01MQNBOLA              Cinthol-Cool-Soap-100g-Free  2020-08-02       1   \n",
       "1499  B01MQNBOLA              Cinthol-Cool-Soap-100g-Free  2020-08-12       1   \n",
       "\n",
       "                                                 review  \n",
       "0     I bought this hair oil after viewing so many g...  \n",
       "1     Used This Mama Earth Newly Launched Onion Oil ...  \n",
       "2     So bad product...My hair falling increase too ...  \n",
       "3     Product just smells similar to navarathna hair...  \n",
       "4     I have been trying different onion oil for my ...  \n",
       "...                                                 ...  \n",
       "1495  In television advertisement, the color of the ...  \n",
       "1496  Decent Soap. Very fresh and nice. Gives good a...  \n",
       "1497  Has absolutely no perfume at all... and it is ...  \n",
       "1498  This soap fluxes so fast even when you put it ...  \n",
       "1499  I have ordered 4+1=5 pcs cinthol soapBut I hav...  \n",
       "\n",
       "[1500 rows x 5 columns]"
      ]
     },
     "execution_count": 11,
     "metadata": {},
     "output_type": "execute_result"
    }
   ],
   "source": [
    "# read csv and put into dataframe\n",
    "df = pd.read_csv(\"amazon_reviews_3k.csv\", encoding=\"UTF-8\", nrows=1500)\n",
    "df"
   ]
  },
  {
   "cell_type": "markdown",
   "metadata": {},
   "source": [
    "## Cleaning data and Sentiment Analysis "
   ]
  },
  {
   "cell_type": "code",
   "execution_count": 12,
   "metadata": {},
   "outputs": [],
   "source": [
    "x_values = df['review'].values  \n",
    "\n",
    "processed_reviews = []\n",
    "\n",
    "# iterate through each review\n",
    "for review in range(0, len(x_values)):\n",
    "    # remove special characters\n",
    "    processed_review = re.sub(r'\\W', ' ', str(df['review'][review]))\n",
    "\n",
    "    # remove single characters\n",
    "    processed_review = re.sub(r'\\s+[a-zA-Z]\\s+', ' ', processed_review)\n",
    "    processed_review = re.sub(r'\\^[a-zA-Z]\\s+', ' ', processed_review)\n",
    "\n",
    "    # remove multiple spaces\n",
    "    processed_review = re.sub(r'\\s+', ' ', processed_review, flags=re.I)\n",
    "\n",
    "    # remove prefixed 'b' (if applicable, assuming X is a list of strings)\n",
    "    processed_review = re.sub(r'^b\\s+', '', processed_review)\n",
    "\n",
    "    # convert to lowercase\n",
    "    processed_review = processed_review.lower()\n",
    "\n",
    "    # append to the empty list created earlier\n",
    "    processed_reviews.append(processed_review)\n",
    "\n",
    "# put all processed reviews into new column \n",
    "df['processed_reviews'] = processed_reviews"
   ]
  },
  {
   "cell_type": "code",
   "execution_count": 13,
   "metadata": {},
   "outputs": [
    {
     "name": "stdout",
     "output_type": "stream",
     "text": [
      "Before removing stop words:\n",
      "0    i bought this hair oil after viewing so many g...\n",
      "1    used this mama earth newly launched onion oil ...\n",
      "2    so bad product my hair falling increase too mu...\n",
      "3    product just smells similar to navarathna hair...\n",
      "4    i have been trying different onion oil for my ...\n",
      "Name: processed_reviews, dtype: object\n",
      "\n",
      "After removing stop words:\n",
      "0    bought hair oil viewing many good comments pro...\n",
      "1    used mama earth newly launched onion oil twice...\n",
      "2    bad product hair falling increase much order s...\n",
      "3    product smells similar navarathna hair oil str...\n",
      "4    trying different onion oil hair hair healthy p...\n",
      "Name: clean_review_text, dtype: object\n"
     ]
    }
   ],
   "source": [
    "# set stopwords\n",
    "stopWords = set(stopwords.words('english') + ['the', 'a', 'an', 'i', 'he', 'she', 'they', 'to', 'of', 'it', 'from'])\n",
    "\n",
    "def removeStopWords(stopWords, rvw_txt):\n",
    "    newtxt = ' '.join([word for word in rvw_txt.split() if word.lower() not in stopWords])\n",
    "    return newtxt\n",
    "\n",
    "\n",
    "df['processed_reviews'] = df['processed_reviews'].astype(str)\n",
    "\n",
    "# before stop words removed\n",
    "print(\"Before removing stop words:\")\n",
    "print(df['processed_reviews'].head())\n",
    "\n",
    "# apply removeStopWords function\n",
    "df['clean_review_text'] = [removeStopWords(stopWords, x) for x in df['processed_reviews']]\n",
    "\n",
    "# after stop words removed\n",
    "print(\"\\nAfter removing stop words:\")\n",
    "print(df['clean_review_text'].head())"
   ]
  },
  {
   "cell_type": "code",
   "execution_count": 14,
   "metadata": {},
   "outputs": [],
   "source": [
    "sentiment_model = SentimentIntensityAnalyzer()\n",
    "sentiment_scores=[]\n",
    "sentiment_score_flag = []\n",
    "\n",
    "# iterate over text and calculate sentiment\n",
    "for text in df['clean_review_text']:\n",
    "        sentimentResults = sentiment_model.polarity_scores(text)\n",
    "        sentiment_score = sentimentResults[\"compound\"]\n",
    "\n",
    "        # append sentiment score and label\n",
    "        sentiment_scores.append(sentiment_score)\n",
    "\n",
    "        # marking the sentiments as positive, negative and neutral \n",
    "        if sentimentResults['compound'] >= 0.05 : \n",
    "            sentiment_score_flag.append('positive')\n",
    "  \n",
    "        elif sentimentResults['compound'] <= - 0.05 : \n",
    "            sentiment_score_flag.append('negative')\n",
    "  \n",
    "        else : \n",
    "            sentiment_score_flag.append('neutral')\n",
    "            \n",
    "# add into new column\n",
    "df['scores'] = sentiment_scores\n",
    "df['scoreStatus'] = sentiment_score_flag"
   ]
  },
  {
   "cell_type": "markdown",
   "metadata": {},
   "source": [
    "## Tokenize and Generate Training Data"
   ]
  },
  {
   "cell_type": "code",
   "execution_count": 15,
   "metadata": {},
   "outputs": [],
   "source": [
    "# tokenize text\n",
    "def tokenize(text):\n",
    "    # obtains tokens with a least 1 alphabet\n",
    "    pattern = re.compile(r'[A-Za-z]+[\\w^\\']*|[\\w^\\']*[A-Za-z]+[\\w^\\']*')\n",
    "    return pattern.findall(text.lower())\n",
    "\n",
    "# create a mapping between words and their corresponding IDs\n",
    "def mapping(tokens):\n",
    "    word_to_id = dict()\n",
    "    id_to_word = dict()\n",
    "\n",
    "    for i, token in enumerate(set(tokens)):\n",
    "        word_to_id[token] = i\n",
    "        id_to_word[i] = token\n",
    "\n",
    "    return word_to_id, id_to_word\n",
    "\n",
    "# generate training data for a word embedding model using a skip-gram approach\n",
    "def generate_training_data(tokens, word_to_id, window_size):\n",
    "    N = len(tokens)\n",
    "    X, Y = [], []\n",
    "\n",
    "    for i in range(N):\n",
    "        nbr_inds = list(range(max(0, i - window_size), i)) + \\\n",
    "                   list(range(i + 1, min(N, i + window_size + 1)))\n",
    "        for j in nbr_inds:\n",
    "            X.append(word_to_id[tokens[i]])\n",
    "            Y.append(word_to_id[tokens[j]])\n",
    "            \n",
    "    X = np.array(X)\n",
    "    X = np.expand_dims(X, axis=0)\n",
    "    Y = np.array(Y)\n",
    "    Y = np.expand_dims(Y, axis=0)\n",
    "            \n",
    "    return X, Y"
   ]
  },
  {
   "cell_type": "code",
   "execution_count": 16,
   "metadata": {},
   "outputs": [],
   "source": [
    "df['clean_review_text'] = df['clean_review_text'].astype(str)\n",
    "docs = df['clean_review_text'].tolist()\n",
    "\n",
    "# tokenize each document separately\n",
    "tokens = [tokenize(doc) for doc in docs]\n",
    "\n",
    "# create word-to-id and id-to-word mappings from all tokens\n",
    "word_to_id, id_to_word = mapping([token for sublist in tokens for token in sublist])\n",
    "\n",
    "# generate training data from tokens\n",
    "X, Y = generate_training_data([token for sublist in tokens for token in sublist], word_to_id, 3)\n",
    "\n",
    "# vocabulary size\n",
    "vocab_size = len(id_to_word)\n",
    "\n",
    "# number of training samples\n",
    "m = Y.shape[1]\n",
    "\n",
    "# turn Y into one hot encoding\n",
    "Y_one_hot = np.zeros((vocab_size, m))\n",
    "Y_one_hot[Y.flatten(), np.arange(m)] = 1"
   ]
  },
  {
   "cell_type": "markdown",
   "metadata": {},
   "source": [
    "## Initialization"
   ]
  },
  {
   "cell_type": "code",
   "execution_count": 17,
   "metadata": {},
   "outputs": [],
   "source": [
    "# initialize the word embedding matrix\n",
    "def initialize_wrd_emb(vocab_size, emb_size):\n",
    "    \"\"\"\n",
    "    vocab_size: int. vocabulary size of your corpus or training data\n",
    "    emb_size: int. word embedding size. How many dimensions to represent each vocabulary\n",
    "    \"\"\"\n",
    "    WRD_EMB = np.random.randn(vocab_size, emb_size) * 0.01\n",
    "    \n",
    "    assert(WRD_EMB.shape == (vocab_size, emb_size))\n",
    "    return WRD_EMB\n",
    "\n",
    "# initialize the weight matrix for a dense layer\n",
    "def initialize_dense(input_size, output_size):\n",
    "    \"\"\"\n",
    "    input_size: int. size of the input to the dense layer\n",
    "    output_szie: int. size of the output out of the dense layer\n",
    "    \"\"\"\n",
    "    W = np.random.randn(output_size, input_size) * 0.01\n",
    "    \n",
    "    assert(W.shape == (output_size, input_size))\n",
    "    return W\n",
    "\n",
    "# initialize parameters for a neural network model\n",
    "def initialize_parameters(vocab_size, emb_size):\n",
    "    WRD_EMB = initialize_wrd_emb(vocab_size, emb_size)\n",
    "    W = initialize_dense(emb_size, vocab_size)\n",
    "    \n",
    "    parameters = {}\n",
    "    parameters['WRD_EMB'] = WRD_EMB\n",
    "    parameters['W'] = W\n",
    "    \n",
    "    return parameters"
   ]
  },
  {
   "cell_type": "markdown",
   "metadata": {},
   "source": [
    "## Forward Propagation"
   ]
  },
  {
   "cell_type": "code",
   "execution_count": 18,
   "metadata": {},
   "outputs": [],
   "source": [
    "# convert word indices to word vectors\n",
    "def ind_to_word_vecs(inds, parameters):\n",
    "    \"\"\"\n",
    "    inds: numpy array. shape: (1, m)\n",
    "    parameters: dict. weights to be trained\n",
    "    \"\"\"\n",
    "    m = inds.shape[1]\n",
    "    WRD_EMB = parameters['WRD_EMB']\n",
    "    word_vec = WRD_EMB[inds.flatten(), :].T\n",
    "    \n",
    "    assert(word_vec.shape == (WRD_EMB.shape[1], m))\n",
    "    \n",
    "    return word_vec\n",
    "\n",
    "# perform linear transformation with a dense layer\n",
    "def linear_dense(word_vec, parameters):\n",
    "    \"\"\"\n",
    "    word_vec: numpy array. shape: (emb_size, m)\n",
    "    parameters: dict. weights to be trained\n",
    "    \"\"\"\n",
    "    m = word_vec.shape[1]\n",
    "    W = parameters['W']\n",
    "    Z = np.dot(W, word_vec)\n",
    "    \n",
    "    assert(Z.shape == (W.shape[0], m))\n",
    "    \n",
    "    return W, Z\n",
    "\n",
    "# apply softmax activation to the output\n",
    "def softmax(Z):\n",
    "    \"\"\"\n",
    "    Z: output out of the dense layer. shape: (vocab_size, m)\n",
    "    \"\"\"\n",
    "    softmax_out = np.divide(np.exp(Z), np.sum(np.exp(Z), axis=0, keepdims=True) + 0.001)\n",
    "    \n",
    "    assert(softmax_out.shape == Z.shape)\n",
    "\n",
    "    return softmax_out\n",
    "\n",
    "# perform forward propagation through the neural network\n",
    "def forward_propagation(inds, parameters):\n",
    "    word_vec = ind_to_word_vecs(inds, parameters)\n",
    "    W, Z = linear_dense(word_vec, parameters)\n",
    "    softmax_out = softmax(Z)\n",
    "    \n",
    "    caches = {}\n",
    "    caches['inds'] = inds\n",
    "    caches['word_vec'] = word_vec\n",
    "    caches['W'] = W\n",
    "    caches['Z'] = Z\n",
    "    \n",
    "    return softmax_out, caches"
   ]
  },
  {
   "cell_type": "markdown",
   "metadata": {},
   "source": [
    "## Cost Function"
   ]
  },
  {
   "cell_type": "code",
   "execution_count": 19,
   "metadata": {},
   "outputs": [],
   "source": [
    "# compute the cross-entropy loss\n",
    "def cross_entropy(softmax_out, Y):\n",
    "    \"\"\"\n",
    "    softmax_out: output out of softmax. shape: (vocab_size, m)\n",
    "    \"\"\"\n",
    "    m = softmax_out.shape[1]\n",
    "    cost = -(1 / m) * np.sum(np.sum(Y * np.log(softmax_out + 0.001), axis=0, keepdims=True), axis=1)\n",
    "    return cost"
   ]
  },
  {
   "cell_type": "markdown",
   "metadata": {},
   "source": [
    "## Backward Propagation"
   ]
  },
  {
   "cell_type": "code",
   "execution_count": 20,
   "metadata": {},
   "outputs": [],
   "source": [
    "# compute gradient of softmax activation\n",
    "def softmax_backward(Y, softmax_out):\n",
    "    \"\"\"\n",
    "    Y: labels of training data. shape: (vocab_size, m)\n",
    "    softmax_out: output out of softmax. shape: (vocab_size, m)\n",
    "    \"\"\"\n",
    "    dL_dZ = softmax_out - Y\n",
    "    \n",
    "    assert(dL_dZ.shape == softmax_out.shape)\n",
    "    return dL_dZ\n",
    "\n",
    "# compute gradient of the dense layer\n",
    "def dense_backward(dL_dZ, caches):\n",
    "    \"\"\"\n",
    "    dL_dZ: shape: (vocab_size, m)\n",
    "    caches: dict. results from each steps of forward propagation\n",
    "    \"\"\"\n",
    "    W = caches['W']\n",
    "    word_vec = caches['word_vec']\n",
    "    m = word_vec.shape[1]\n",
    "    \n",
    "    dL_dW = (1 / m) * np.dot(dL_dZ, word_vec.T)\n",
    "    dL_dword_vec = np.dot(W.T, dL_dZ)\n",
    "\n",
    "    assert(W.shape == dL_dW.shape)\n",
    "    assert(word_vec.shape == dL_dword_vec.shape)\n",
    "    \n",
    "    return dL_dW, dL_dword_vec\n",
    "\n",
    "# perform backward propagation to compute gradients\n",
    "def backward_propagation(Y, softmax_out, caches):\n",
    "    dL_dZ = softmax_backward(Y, softmax_out)\n",
    "    dL_dW, dL_dword_vec = dense_backward(dL_dZ, caches)\n",
    "    \n",
    "    gradients = dict()\n",
    "    gradients['dL_dZ'] = dL_dZ\n",
    "    gradients['dL_dW'] = dL_dW\n",
    "    gradients['dL_dword_vec'] = dL_dword_vec\n",
    "    \n",
    "    return gradients\n",
    "\n",
    "# update the parameters using gradient descent\n",
    "def update_parameters(parameters, caches, gradients, learning_rate):\n",
    "    vocab_size, emb_size = parameters['WRD_EMB'].shape\n",
    "    inds = caches['inds']\n",
    "    dL_dword_vec = gradients['dL_dword_vec']\n",
    "    m = inds.shape[-1]\n",
    "    \n",
    "    parameters['WRD_EMB'][inds.flatten(), :] -= dL_dword_vec.T * learning_rate\n",
    "\n",
    "    parameters['W'] -= learning_rate * gradients['dL_dW']"
   ]
  },
  {
   "cell_type": "code",
   "execution_count": 21,
   "metadata": {},
   "outputs": [],
   "source": [
    "# implement training for skip-gram word embedding model \n",
    "def skipgram_model_training(X, Y, vocab_size, emb_size, learning_rate, epochs, batch_size=256, parameters=None, print_cost=False, plot_cost=True):\n",
    "    costs = []\n",
    "    m = X.shape[1]\n",
    "    \n",
    "    if parameters is None:\n",
    "        parameters = initialize_parameters(vocab_size, emb_size)\n",
    "    \n",
    "    begin_time = datetime.now()\n",
    "    for epoch in range(epochs):\n",
    "        epoch_cost = 0\n",
    "        batch_inds = list(range(0, m, batch_size))\n",
    "        np.random.shuffle(batch_inds)\n",
    "        for i in batch_inds:\n",
    "            X_batch = X[:, i:i+batch_size]\n",
    "            Y_batch = Y[:, i:i+batch_size]\n",
    "\n",
    "            softmax_out, caches = forward_propagation(X_batch, parameters)\n",
    "            gradients = backward_propagation(Y_batch, softmax_out, caches)\n",
    "            update_parameters(parameters, caches, gradients, learning_rate)\n",
    "            cost = cross_entropy(softmax_out, Y_batch)\n",
    "            epoch_cost += np.squeeze(cost)\n",
    "            \n",
    "        costs.append(epoch_cost)\n",
    "    end_time = datetime.now()\n",
    "    print('training time: {}'.format(end_time - begin_time))\n",
    "            \n",
    "    if plot_cost:\n",
    "        plt.plot(np.arange(epochs), costs)\n",
    "        plt.xlabel('# of epochs')\n",
    "        plt.ylabel('cost')\n",
    "    return parameters"
   ]
  },
  {
   "cell_type": "code",
   "execution_count": 29,
   "metadata": {},
   "outputs": [
    {
     "name": "stdout",
     "output_type": "stream",
     "text": [
      "training time: 0:23:41.203384\n"
     ]
    },
    {
     "data": {
      "image/png": "[encoded data removed]",
      "text/plain": [
       "<Figure size 640x480 with 1 Axes>"
      ]
     },
     "metadata": {},
     "output_type": "display_data"
    }
   ],
   "source": [
    "paras = skipgram_model_training(X, Y_one_hot, vocab_size, 50, 0.05, 10, batch_size=64, parameters=None)"
   ]
  },
  {
   "cell_type": "code",
   "execution_count": 35,
   "metadata": {},
   "outputs": [
    {
     "name": "stdout",
     "output_type": "stream",
     "text": [
      "training time: 0:21:58.723799\n",
      "Filename: /var/folders/k7/hgkz89px7jz91sbyc7lxqdxh0000gn/T/ipykernel_10033/703191597.py\n",
      "\n",
      "Line #    Mem usage    Increment  Occurrences   Line Contents\n",
      "=============================================================\n",
      "     9    100.4 MiB    100.4 MiB           1   @profile\n",
      "    10                                         def train_skipgram_model_memory():\n",
      "    11   1467.7 MiB   1367.3 MiB           1       paras = skipgram_model_training(X, Y_one_hot, vocab_size, 50, 0.05, 10, batch_size=64, parameters=None)    \n",
      "\n",
      "\n"
     ]
    },
    {
     "data": {
      "image/png": "[encoded data removed]",
      "text/plain": [
       "<Figure size 640x480 with 1 Axes>"
      ]
     },
     "metadata": {},
     "output_type": "display_data"
    }
   ],
   "source": [
    "# check memory usage of applying TF-IDF to the data\n",
    "def print_memory_usage():\n",
    "    process = psutil.Process()\n",
    "    memory_info = process.memory_info()\n",
    "\n",
    "    print(f\"Memory Usage: {memory_info.rss / (1024 ** 2):.2f} MB (Resident Set Size)\")\n",
    "    print(f\"Virtual Memory: {memory_info.vms / (1024 ** 2):.2f} MB\")\n",
    "\n",
    "@profile\n",
    "def train_skipgram_model_memory():\n",
    "    paras = skipgram_model_training(X, Y_one_hot, vocab_size, 50, 0.05, 10, batch_size=64, parameters=None) \n",
    "    print_memory_usage()   \n",
    "\n",
    "train_skipgram_model_memory()"
   ]
  },
  {
   "cell_type": "markdown",
   "metadata": {},
   "source": [
    "## Obtain word embeddings for each word in the dataset"
   ]
  },
  {
   "cell_type": "code",
   "execution_count": 36,
   "metadata": {},
   "outputs": [],
   "source": [
    "# generate word embeddings \n",
    "def get_word_embeddings(words, parameters):\n",
    "    word_indices = [word_to_id[word] for word in words if word in word_to_id]\n",
    "    word_indices = np.array(word_indices).astype(int)  # Convert to integers\n",
    "    word_vecs = ind_to_word_vecs(word_indices.reshape(1, -1), parameters)\n",
    "    return word_vecs\n",
    "\n",
    "word_embeddings = get_word_embeddings(docs, paras)"
   ]
  },
  {
   "cell_type": "markdown",
   "metadata": {},
   "source": [
    "## Aggregate Word Embeddings"
   ]
  },
  {
   "cell_type": "code",
   "execution_count": 37,
   "metadata": {},
   "outputs": [],
   "source": [
    "# creates average sentence embeddings from tokenized texts\n",
    "def aggregate_embeddings(tokenized_texts, parameters):\n",
    "    sentence_embeddings = []\n",
    "    placeholder_embedding = None\n",
    "\n",
    "    for sentence in tokenized_texts:\n",
    "        word_indices = [word_to_id[word] for word in sentence if word in word_to_id]\n",
    "        word_indices = np.array(word_indices, dtype=np.int64)  # convert to integer type\n",
    "\n",
    "        if len(word_indices) > 0:\n",
    "            word_vecs = ind_to_word_vecs(word_indices.reshape(1, -1), parameters)\n",
    "            avg_embedding = np.mean(word_vecs, axis=1)  # average word embeddings for the sentence\n",
    "            sentence_embeddings.append(avg_embedding)\n",
    "            placeholder_embedding = avg_embedding  # update the placeholder\n",
    "\n",
    "        elif placeholder_embedding is not None:\n",
    "            # append the placeholder for empty sentences\n",
    "            sentence_embeddings.append(placeholder_embedding)\n",
    "\n",
    "    return np.vstack(sentence_embeddings)\n",
    "\n",
    "sentence_embeddings = aggregate_embeddings(tokens, paras)"
   ]
  },
  {
   "cell_type": "markdown",
   "metadata": {},
   "source": [
    "## Train Sentiment Analysis Model"
   ]
  },
  {
   "cell_type": "code",
   "execution_count": 45,
   "metadata": {},
   "outputs": [],
   "source": [
    "X_train = sentence_embeddings  # features\n",
    "y_train = df[\"scoreStatus\"]  # labels"
   ]
  },
  {
   "cell_type": "code",
   "execution_count": 39,
   "metadata": {},
   "outputs": [
    {
     "name": "stdout",
     "output_type": "stream",
     "text": [
      "Accuracy on test set: 0.7766666666666666\n",
      "Precision: 0.7766666666666666\n",
      "Recall: 0.7766666666666666\n",
      "F1-Score: 0.7766666666666666\n",
      "\n",
      "               precision    recall  f1-score   support\n",
      "\n",
      "    negative       0.67      0.04      0.08        45\n",
      "     neutral       0.00      0.00      0.00        23\n",
      "    positive       0.78      1.00      0.87       232\n",
      "\n",
      "    accuracy                           0.78       300\n",
      "   macro avg       0.48      0.35      0.32       300\n",
      "weighted avg       0.70      0.78      0.69       300\n",
      "\n"
     ]
    },
    {
     "name": "stderr",
     "output_type": "stream",
     "text": [
      "/Users/priscillaabigail/Library/Python/3.9/lib/python/site-packages/sklearn/svm/_classes.py:32: FutureWarning: The default value of `dual` will change from `True` to `'auto'` in 1.5. Set the value of `dual` explicitly to suppress the warning.\n",
      "  warnings.warn(\n"
     ]
    }
   ],
   "source": [
    "X_train, X_test, y_train, y_test = train_test_split(X_train, y_train, test_size=0.2, random_state=42)\n",
    "\n",
    "# initialize the classifier\n",
    "clf = LinearSVC()\n",
    "\n",
    "# train the classifier\n",
    "clf.fit(X_train, y_train)\n",
    "\n",
    "# make predictions on the test set\n",
    "y_pred = clf.predict(X_test)\n",
    "\n",
    "# calculate accuracy\n",
    "accuracy = accuracy_score(y_test, y_pred)\n",
    "print(f\"Accuracy on test set: {accuracy}\")\n",
    "\n",
    "# calculate precision, recall, and F1-score\n",
    "precision = precision_score(y_test, y_pred, average='micro')  # Choose the appropriate average setting\n",
    "recall = recall_score(y_test, y_pred, average='micro')  # Choose the appropriate average setting\n",
    "f1 = f1_score(y_test, y_pred, average='micro')  # Choose the appropriate average setting\n",
    "\n",
    "print(f'Precision: {precision}')\n",
    "print(f'Recall: {recall}')\n",
    "print(f'F1-Score: {f1}')\n",
    "\n",
    "# Classification report\n",
    "report = classification_report(y_test, y_pred, zero_division=0)\n",
    "print(\"\\n\",report)"
   ]
  },
  {
   "cell_type": "code",
   "execution_count": 60,
   "metadata": {},
   "outputs": [
    {
     "name": "stdout",
     "output_type": "stream",
     "text": [
      "Accuracy on test set: 0.4935064935064935\n",
      "\n",
      "               precision    recall  f1-score   support\n",
      "\n",
      "    negative       0.26      0.73      0.39        30\n",
      "     neutral       0.30      0.33      0.32         9\n",
      "    positive       0.85      0.44      0.58       115\n",
      "\n",
      "    accuracy                           0.49       154\n",
      "   macro avg       0.47      0.50      0.43       154\n",
      "weighted avg       0.70      0.49      0.53       154\n",
      "\n"
     ]
    }
   ],
   "source": [
    "X_train, X_test, y_train, y_test = train_test_split(X_train, y_train, test_size=0.2, random_state=42)\n",
    "\n",
    "# initialize the classifier\n",
    "gnb = GaussianNB()\n",
    "\n",
    "# train the classifier\n",
    "gnb.fit(X_train, y_train)\n",
    "\n",
    "# make predictions on the test set\n",
    "y_pred = gnb.predict(X_test)\n",
    "\n",
    "# calculate accuracy\n",
    "accuracy = accuracy_score(y_test, y_pred)\n",
    "print(f\"Accuracy on test set: {accuracy}\")\n",
    "\n",
    "# classification report\n",
    "report = classification_report(y_test, y_pred, zero_division=0)\n",
    "print(\"\\n\", report)"
   ]
  },
  {
   "cell_type": "code",
   "execution_count": 68,
   "metadata": {},
   "outputs": [
    {
     "name": "stdout",
     "output_type": "stream",
     "text": [
      "Training Time: 0.1241919994354248 seconds\n"
     ]
    },
    {
     "name": "stderr",
     "output_type": "stream",
     "text": [
      "/Users/priscillaabigail/Library/Python/3.9/lib/python/site-packages/sklearn/svm/_classes.py:32: FutureWarning: The default value of `dual` will change from `True` to `'auto'` in 1.5. Set the value of `dual` explicitly to suppress the warning.\n",
      "  warnings.warn(\n"
     ]
    }
   ],
   "source": [
    "start_time = time.time()\n",
    "\n",
    "# Code for training your model\n",
    "clf.fit(X_train, y_train)\n",
    "\n",
    "end_time = time.time()\n",
    "training_time = end_time - start_time\n",
    "print(f\"Training Time: {training_time} seconds\")"
   ]
  },
  {
   "cell_type": "code",
   "execution_count": 62,
   "metadata": {},
   "outputs": [
    {
     "name": "stdout",
     "output_type": "stream",
     "text": [
      "Model Size: 4.57763671875e-05 MB\n"
     ]
    }
   ],
   "source": [
    "import sys\n",
    "model_size = sys.getsizeof(clf)\n",
    "print(f\"Model Size: {model_size / (1024 * 1024)} MB\")"
   ]
  },
  {
   "cell_type": "markdown",
   "metadata": {},
   "source": [
    "## Predict "
   ]
  },
  {
   "cell_type": "code",
   "execution_count": 41,
   "metadata": {},
   "outputs": [
    {
     "name": "stdout",
     "output_type": "stream",
     "text": [
      "Predicted sentiment: ['negative']\n"
     ]
    }
   ],
   "source": [
    "new_text = \"this product was very bad\"\n",
    "tokenized_new_text = new_text.split()\n",
    "\n",
    "new_text_word_indices = [word_to_id[word] for word in tokenized_new_text if word in word_to_id]\n",
    "new_text_word_vecs = ind_to_word_vecs(np.array(new_text_word_indices).reshape(1, -1), paras)\n",
    "\n",
    "avg_embedding_new_text = np.mean(new_text_word_vecs, axis=1)\n",
    "\n",
    "predicted_sentiment = clf.predict(avg_embedding_new_text.reshape(1, -1))\n",
    "print(f\"Predicted sentiment: {predicted_sentiment}\")"
   ]
  },
  {
   "cell_type": "code",
   "execution_count": 42,
   "metadata": {},
   "outputs": [
    {
     "name": "stdout",
     "output_type": "stream",
     "text": [
      "Predicted sentiment: ['positive']\n"
     ]
    }
   ],
   "source": [
    "new_text = \"this product was very good\"\n",
    "tokenized_new_text = new_text.split()\n",
    "\n",
    "new_text_word_indices = [word_to_id[word] for word in tokenized_new_text if word in word_to_id]\n",
    "new_text_word_vecs = ind_to_word_vecs(np.array(new_text_word_indices).reshape(1, -1), paras)\n",
    "\n",
    "avg_embedding_new_text = np.mean(new_text_word_vecs, axis=1)\n",
    "\n",
    "predicted_sentiment = clf.predict(avg_embedding_new_text.reshape(1, -1))\n",
    "print(f\"Predicted sentiment: {predicted_sentiment}\")"
   ]
  }
 ],
 "metadata": {
  "kernelspec": {
   "display_name": "Python 3.10.6 64-bit",
   "language": "python",
   "name": "python3"
  },
  "language_info": {
   "codemirror_mode": {
    "name": "ipython",
    "version": 3
   },
   "file_extension": ".py",
   "mimetype": "text/x-python",
   "name": "python",
   "nbconvert_exporter": "python",
   "pygments_lexer": "ipython3",
   "version": "3.9.6"
  },
  "orig_nbformat": 4,
  "vscode": {
   "interpreter": {
    "hash": "aee8b7b246df8f9039afb4144a1f6fd8d2ca17a180786b69acc140d282b71a49"
   }
  }
 },
 "nbformat": 4,
 "nbformat_minor": 2
}
